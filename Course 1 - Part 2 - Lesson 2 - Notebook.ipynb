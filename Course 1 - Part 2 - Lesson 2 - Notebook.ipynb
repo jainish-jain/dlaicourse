{
  "cells": [
    {
      "cell_type": "markdown",
      "metadata": {
        "colab_type": "text",
        "id": "view-in-github"
      },
      "source": [
        "<a href=\"https://colab.research.google.com/github/lmoroney/dlaicourse/blob/master/Course%201%20-%20Part%202%20-%20Lesson%202%20-%20Notebook.ipynb\" target=\"_parent\"><img src=\"https://colab.research.google.com/assets/colab-badge.svg\" alt=\"Open In Colab\"/></a>"
      ]
    },
    {
      "cell_type": "markdown",
      "metadata": {
        "colab_type": "text",
        "id": "rX8mhOLljYeM"
      },
      "source": [
        "##### Copyright 2019 The TensorFlow Authors."
      ]
    },
    {
      "cell_type": "code",
      "execution_count": 0,
      "metadata": {
        "cellView": "form",
        "colab": {},
        "colab_type": "code",
        "id": "BZSlp3DAjdYf"
      },
      "outputs": [],
      "source": [
        "#@title Licensed under the Apache License, Version 2.0 (the \"License\");\n",
        "# you may not use this file except in compliance with the License.\n",
        "# You may obtain a copy of the License at\n",
        "#\n",
        "# https://www.apache.org/licenses/LICENSE-2.0\n",
        "#\n",
        "# Unless required by applicable law or agreed to in writing, software\n",
        "# distributed under the License is distributed on an \"AS IS\" BASIS,\n",
        "# WITHOUT WARRANTIES OR CONDITIONS OF ANY KIND, either express or implied.\n",
        "# See the License for the specific language governing permissions and\n",
        "# limitations under the License."
      ]
    },
    {
      "cell_type": "markdown",
      "metadata": {
        "colab_type": "text",
        "id": "ZIAkIlfmCe1B"
      },
      "source": [
        "# The Hello World of Deep Learning with Neural Networks"
      ]
    },
    {
      "cell_type": "markdown",
      "metadata": {
        "colab_type": "text",
        "id": "fA93WUy1zzWf"
      },
      "source": [
        "Like every first app you should start with something super simple that shows the overall scaffolding for how your code works. \n",
        "\n",
        "In the case of creating neural networks, the sample I like to use is one where it learns the relationship between two numbers. So, for example, if you were writing code for a function like this, you already know the 'rules' — \n",
        "\n",
        "\n",
        "```\n",
        "float hw_function(float x){\n",
        "    float y = (2 * x) - 1;\n",
        "    return y;\n",
        "}\n",
        "```\n",
        "\n",
        "So how would you train a neural network to do the equivalent task? Using data! By feeding it with a set of Xs, and a set of Ys, it should be able to figure out the relationship between them. \n",
        "\n",
        "This is obviously a very different paradigm than what you might be used to, so let's step through it piece by piece.\n"
      ]
    },
    {
      "cell_type": "markdown",
      "metadata": {
        "colab_type": "text",
        "id": "DzbtdRcZDO9B"
      },
      "source": [
        "## Imports\n",
        "\n",
        "Let's start with our imports. Here we are importing TensorFlow and calling it tf for ease of use.\n",
        "\n",
        "We then import a library called numpy, which helps us to represent our data as lists easily and quickly.\n",
        "\n",
        "The framework for defining a neural network as a set of Sequential layers is called keras, so we import that too."
      ]
    },
    {
      "cell_type": "code",
      "execution_count": 2,
      "metadata": {
        "colab": {},
        "colab_type": "code",
        "id": "X9uIpOS2zx7k"
      },
      "outputs": [],
      "source": [
        "import tensorflow as tf\n",
        "import numpy as np\n",
        "from tensorflow import keras"
      ]
    },
    {
      "cell_type": "markdown",
      "metadata": {
        "colab_type": "text",
        "id": "wwJGmDrQ0EoB"
      },
      "source": [
        "## Define and Compile the Neural Network\n",
        "\n",
        "Next we will create the simplest possible neural network. It has 1 layer, and that layer has 1 neuron, and the input shape to it is just 1 value."
      ]
    },
    {
      "cell_type": "code",
      "execution_count": 3,
      "metadata": {
        "colab": {},
        "colab_type": "code",
        "id": "kQFAr_xo0M4T"
      },
      "outputs": [],
      "source": [
        "model = tf.keras.Sequential([keras.layers.Dense(units=1, input_shape=[1])])"
      ]
    },
    {
      "cell_type": "markdown",
      "metadata": {
        "colab_type": "text",
        "id": "KhjZjZ-c0Ok9"
      },
      "source": [
        "Now we compile our Neural Network. When we do so, we have to specify 2 functions, a loss and an optimizer.\n",
        "\n",
        "If you've seen lots of math for machine learning, here's where it's usually used, but in this case it's nicely encapsulated in functions for you. But what happens here — let's explain...\n",
        "\n",
        "We know that in our function, the relationship between the numbers is y=2x-1. \n",
        "\n",
        "When the computer is trying to 'learn' that, it makes a guess...maybe y=10x+10. The LOSS function measures the guessed answers against the known correct answers and measures how well or how badly it did.\n",
        "\n",
        "It then uses the OPTIMIZER function to make another guess. Based on how the loss function went, it will try to minimize the loss. At that point maybe it will come up with somehting like y=5x+5, which, while still pretty bad, is closer to the correct result (i.e. the loss is lower)\n",
        "\n",
        "It will repeat this for the number of EPOCHS which you will see shortly. But first, here's how we tell it to use 'MEAN SQUARED ERROR' for the loss and 'STOCHASTIC GRADIENT DESCENT' for the optimizer. You don't need to understand the math for these yet, but you can see that they work! :)\n",
        "\n",
        "Over time you will learn the different and appropriate loss and optimizer functions for different scenarios. \n"
      ]
    },
    {
      "cell_type": "code",
      "execution_count": 4,
      "metadata": {
        "colab": {},
        "colab_type": "code",
        "id": "m8YQN1H41L-Y"
      },
      "outputs": [],
      "source": [
        "model.compile(optimizer='sgd', loss='mean_squared_error')"
      ]
    },
    {
      "cell_type": "markdown",
      "metadata": {
        "colab_type": "text",
        "id": "5QyOUhFw1OUX"
      },
      "source": [
        "## Providing the Data\n",
        "\n",
        "Next up we'll feed in some data. In this case we are taking 6 xs and 6ys. You can see that the relationship between these is that y=2x-1, so where x = -1, y=-3 etc. etc. \n",
        "\n",
        "A python library called 'Numpy' provides lots of array type data structures that are a defacto standard way of doing it. We declare that we want to use these by specifying the values as an np.array[]"
      ]
    },
    {
      "cell_type": "code",
      "execution_count": 5,
      "metadata": {
        "colab": {},
        "colab_type": "code",
        "id": "4Dxk4q-jzEy4"
      },
      "outputs": [],
      "source": [
        "xs = np.array([-1.0,  0.0, 1.0, 2.0, 3.0, 4.0], dtype=float)\n",
        "ys = np.array([-3.0, -1.0, 1.0, 3.0, 5.0, 7.0], dtype=float)"
      ]
    },
    {
      "cell_type": "markdown",
      "metadata": {
        "colab_type": "text",
        "id": "n_YcWRElnM_b"
      },
      "source": [
        "# Training the Neural Network"
      ]
    },
    {
      "cell_type": "markdown",
      "metadata": {
        "colab_type": "text",
        "id": "c-Jk4dG91dvD"
      },
      "source": [
        "The process of training the neural network, where it 'learns' the relationship between the Xs and Ys is in the **model.fit**  call. This is where it will go through the loop we spoke about above, making a guess, measuring how good or bad it is (aka the loss), using the opimizer to make another guess etc. It will do it for the number of epochs you specify. When you run this code, you'll see the loss on the right hand side."
      ]
    },
    {
      "cell_type": "code",
      "execution_count": 9,
      "metadata": {
        "colab": {},
        "colab_type": "code",
        "id": "lpRrl7WK10Pq",
        "tags": [
          "outputPrepend"
        ]
      },
      "outputs": [
        {
          "output_type": "stream",
          "name": "stdout",
          "text": " 0.1453\nEpoch 363/600\n6/6 [==============================] - 0s 259us/sample - loss: 0.1450\nEpoch 364/600\n6/6 [==============================] - 0s 511us/sample - loss: 0.1447\nEpoch 365/600\n6/6 [==============================] - 0s 353us/sample - loss: 0.1444\nEpoch 366/600\n6/6 [==============================] - 0s 359us/sample - loss: 0.1441\nEpoch 367/600\n6/6 [==============================] - 0s 382us/sample - loss: 0.1438\nEpoch 368/600\n6/6 [==============================] - 0s 402us/sample - loss: 0.1435\nEpoch 369/600\n6/6 [==============================] - 0s 345us/sample - loss: 0.1432\nEpoch 370/600\n6/6 [==============================] - 0s 395us/sample - loss: 0.1429\nEpoch 371/600\n6/6 [==============================] - 0s 370us/sample - loss: 0.1426\nEpoch 372/600\n6/6 [==============================] - 0s 396us/sample - loss: 0.1423\nEpoch 373/600\n6/6 [==============================] - 0s 368us/sample - loss: 0.1420\nEpoch 374/600\n6/6 [==============================] - 0s 398us/sample - loss: 0.1417\nEpoch 375/600\n6/6 [==============================] - 0s 396us/sample - loss: 0.1414\nEpoch 376/600\n6/6 [==============================] - 0s 350us/sample - loss: 0.1411\nEpoch 377/600\n6/6 [==============================] - 0s 420us/sample - loss: 0.1409\nEpoch 378/600\n6/6 [==============================] - 0s 384us/sample - loss: 0.1406\nEpoch 379/600\n6/6 [==============================] - 0s 289us/sample - loss: 0.1403\nEpoch 380/600\n6/6 [==============================] - 0s 411us/sample - loss: 0.1400\nEpoch 381/600\n6/6 [==============================] - 0s 316us/sample - loss: 0.1397\nEpoch 382/600\n6/6 [==============================] - 0s 322us/sample - loss: 0.1394\nEpoch 383/600\n6/6 [==============================] - 0s 381us/sample - loss: 0.1391\nEpoch 384/600\n6/6 [==============================] - 0s 335us/sample - loss: 0.1388\nEpoch 385/600\n6/6 [==============================] - 0s 323us/sample - loss: 0.1385\nEpoch 386/600\n6/6 [==============================] - 0s 345us/sample - loss: 0.1383\nEpoch 387/600\n6/6 [==============================] - 0s 328us/sample - loss: 0.1380\nEpoch 388/600\n6/6 [==============================] - 0s 353us/sample - loss: 0.1377\nEpoch 389/600\n6/6 [==============================] - 0s 350us/sample - loss: 0.1374\nEpoch 390/600\n6/6 [==============================] - 0s 346us/sample - loss: 0.1371\nEpoch 391/600\n6/6 [==============================] - 0s 374us/sample - loss: 0.1368\nEpoch 392/600\n6/6 [==============================] - 0s 356us/sample - loss: 0.1366\nEpoch 393/600\n6/6 [==============================] - 0s 613us/sample - loss: 0.1363\nEpoch 394/600\n6/6 [==============================] - 0s 437us/sample - loss: 0.1360\nEpoch 395/600\n6/6 [==============================] - 0s 364us/sample - loss: 0.1357\nEpoch 396/600\n6/6 [==============================] - 0s 376us/sample - loss: 0.1354\nEpoch 397/600\n6/6 [==============================] - 0s 371us/sample - loss: 0.1352\nEpoch 398/600\n6/6 [==============================] - 0s 727us/sample - loss: 0.1349\nEpoch 399/600\n6/6 [==============================] - 0s 390us/sample - loss: 0.1346\nEpoch 400/600\n6/6 [==============================] - 0s 269us/sample - loss: 0.1343\nEpoch 401/600\n6/6 [==============================] - 0s 339us/sample - loss: 0.1340\nEpoch 402/600\n6/6 [==============================] - 0s 258us/sample - loss: 0.1338\nEpoch 403/600\n6/6 [==============================] - 0s 265us/sample - loss: 0.1335\nEpoch 404/600\n6/6 [==============================] - 0s 342us/sample - loss: 0.1332\nEpoch 405/600\n6/6 [==============================] - 0s 303us/sample - loss: 0.1329\nEpoch 406/600\n6/6 [==============================] - 0s 309us/sample - loss: 0.1327\nEpoch 407/600\n6/6 [==============================] - 0s 331us/sample - loss: 0.1324\nEpoch 408/600\n6/6 [==============================] - 0s 321us/sample - loss: 0.1321\nEpoch 409/600\n6/6 [==============================] - 0s 248us/sample - loss: 0.1318\nEpoch 410/600\n6/6 [==============================] - 0s 305us/sample - loss: 0.1316\nEpoch 411/600\n6/6 [==============================] - 0s 341us/sample - loss: 0.1313\nEpoch 412/600\n6/6 [==============================] - 0s 305us/sample - loss: 0.1310\nEpoch 413/600\n6/6 [==============================] - 0s 300us/sample - loss: 0.1308\nEpoch 414/600\n6/6 [==============================] - 0s 387us/sample - loss: 0.1305\nEpoch 415/600\n6/6 [==============================] - 0s 336us/sample - loss: 0.1302\nEpoch 416/600\n6/6 [==============================] - 0s 397us/sample - loss: 0.1300\nEpoch 417/600\n6/6 [==============================] - 0s 275us/sample - loss: 0.1297\nEpoch 418/600\n6/6 [==============================] - 0s 414us/sample - loss: 0.1294\nEpoch 419/600\n6/6 [==============================] - 0s 289us/sample - loss: 0.1291\nEpoch 420/600\n6/6 [==============================] - 0s 357us/sample - loss: 0.1289\nEpoch 421/600\n6/6 [==============================] - 0s 326us/sample - loss: 0.1286\nEpoch 422/600\n6/6 [==============================] - 0s 257us/sample - loss: 0.1284\nEpoch 423/600\n6/6 [==============================] - 0s 289us/sample - loss: 0.1281\nEpoch 424/600\n6/6 [==============================] - 0s 286us/sample - loss: 0.1278\nEpoch 425/600\n6/6 [==============================] - 0s 357us/sample - loss: 0.1276\nEpoch 426/600\n6/6 [==============================] - 0s 300us/sample - loss: 0.1273\nEpoch 427/600\n6/6 [==============================] - 0s 288us/sample - loss: 0.1270\nEpoch 428/600\n6/6 [==============================] - 0s 436us/sample - loss: 0.1268\nEpoch 429/600\n6/6 [==============================] - 0s 296us/sample - loss: 0.1265\nEpoch 430/600\n6/6 [==============================] - 0s 333us/sample - loss: 0.1262\nEpoch 431/600\n6/6 [==============================] - 0s 295us/sample - loss: 0.1260\nEpoch 432/600\n6/6 [==============================] - 0s 428us/sample - loss: 0.1257\nEpoch 433/600\n6/6 [==============================] - 0s 284us/sample - loss: 0.1255\nEpoch 434/600\n6/6 [==============================] - 0s 320us/sample - loss: 0.1252\nEpoch 435/600\n6/6 [==============================] - 0s 287us/sample - loss: 0.1249\nEpoch 436/600\n6/6 [==============================] - 0s 300us/sample - loss: 0.1247\nEpoch 437/600\n6/6 [==============================] - 0s 377us/sample - loss: 0.1244\nEpoch 438/600\n6/6 [==============================] - 0s 273us/sample - loss: 0.1242\nEpoch 439/600\n6/6 [==============================] - 0s 287us/sample - loss: 0.1239\nEpoch 440/600\n6/6 [==============================] - 0s 895us/sample - loss: 0.1237\nEpoch 441/600\n6/6 [==============================] - 0s 311us/sample - loss: 0.1234\nEpoch 442/600\n6/6 [==============================] - 0s 297us/sample - loss: 0.1232\nEpoch 443/600\n6/6 [==============================] - 0s 454us/sample - loss: 0.1229\nEpoch 444/600\n6/6 [==============================] - 0s 296us/sample - loss: 0.1226\nEpoch 445/600\n6/6 [==============================] - 0s 384us/sample - loss: 0.1224\nEpoch 446/600\n6/6 [==============================] - 0s 308us/sample - loss: 0.1221\nEpoch 447/600\n6/6 [==============================] - 0s 470us/sample - loss: 0.1219\nEpoch 448/600\n6/6 [==============================] - 0s 381us/sample - loss: 0.1216\nEpoch 449/600\n6/6 [==============================] - 0s 410us/sample - loss: 0.1214\nEpoch 450/600\n6/6 [==============================] - 0s 343us/sample - loss: 0.1211\nEpoch 451/600\n6/6 [==============================] - 0s 376us/sample - loss: 0.1209\nEpoch 452/600\n6/6 [==============================] - 0s 379us/sample - loss: 0.1206\nEpoch 453/600\n6/6 [==============================] - 0s 372us/sample - loss: 0.1204\nEpoch 454/600\n6/6 [==============================] - 0s 308us/sample - loss: 0.1201\nEpoch 455/600\n6/6 [==============================] - 0s 431us/sample - loss: 0.1199\nEpoch 456/600\n6/6 [==============================] - 0s 331us/sample - loss: 0.1196\nEpoch 457/600\n6/6 [==============================] - 0s 327us/sample - loss: 0.1194\nEpoch 458/600\n6/6 [==============================] - 0s 402us/sample - loss: 0.1192\nEpoch 459/600\n6/6 [==============================] - 0s 424us/sample - loss: 0.1189\nEpoch 460/600\n6/6 [==============================] - 0s 381us/sample - loss: 0.1187\nEpoch 461/600\n6/6 [==============================] - 0s 331us/sample - loss: 0.1184\nEpoch 462/600\n6/6 [==============================] - 0s 369us/sample - loss: 0.1182\nEpoch 463/600\n6/6 [==============================] - 0s 348us/sample - loss: 0.1179\nEpoch 464/600\n6/6 [==============================] - 0s 391us/sample - loss: 0.1177\nEpoch 465/600\n6/6 [==============================] - 0s 488us/sample - loss: 0.1174\nEpoch 466/600\n6/6 [==============================] - 0s 305us/sample - loss: 0.1172\nEpoch 467/600\n6/6 [==============================] - 0s 351us/sample - loss: 0.1170\nEpoch 468/600\n6/6 [==============================] - 0s 327us/sample - loss: 0.1167\nEpoch 469/600\n6/6 [==============================] - 0s 396us/sample - loss: 0.1165\nEpoch 470/600\n6/6 [==============================] - 0s 338us/sample - loss: 0.1162\nEpoch 471/600\n6/6 [==============================] - 0s 322us/sample - loss: 0.1160\nEpoch 472/600\n6/6 [==============================] - 0s 323us/sample - loss: 0.1158\nEpoch 473/600\n6/6 [==============================] - 0s 303us/sample - loss: 0.1155\nEpoch 474/600\n6/6 [==============================] - 0s 310us/sample - loss: 0.1153\nEpoch 475/600\n6/6 [==============================] - 0s 307us/sample - loss: 0.1150\nEpoch 476/600\n6/6 [==============================] - 0s 318us/sample - loss: 0.1148\nEpoch 477/600\n6/6 [==============================] - 0s 408us/sample - loss: 0.1146\nEpoch 478/600\n6/6 [==============================] - 0s 305us/sample - loss: 0.1143\nEpoch 479/600\n6/6 [==============================] - 0s 303us/sample - loss: 0.1141\nEpoch 480/600\n6/6 [==============================] - 0s 438us/sample - loss: 0.1139\nEpoch 481/600\n6/6 [==============================] - 0s 299us/sample - loss: 0.1136\nEpoch 482/600\n6/6 [==============================] - 0s 284us/sample - loss: 0.1134\nEpoch 483/600\n6/6 [==============================] - 0s 302us/sample - loss: 0.1132\nEpoch 484/600\n6/6 [==============================] - 0s 276us/sample - loss: 0.1129\nEpoch 485/600\n6/6 [==============================] - 0s 297us/sample - loss: 0.1127\nEpoch 486/600\n6/6 [==============================] - 0s 308us/sample - loss: 0.1125\nEpoch 487/600\n6/6 [==============================] - 0s 383us/sample - loss: 0.1122\nEpoch 488/600\n6/6 [==============================] - 0s 322us/sample - loss: 0.1120\nEpoch 489/600\n6/6 [==============================] - 0s 303us/sample - loss: 0.1118\nEpoch 490/600\n6/6 [==============================] - 0s 317us/sample - loss: 0.1115\nEpoch 491/600\n6/6 [==============================] - 0s 307us/sample - loss: 0.1113\nEpoch 492/600\n6/6 [==============================] - 0s 307us/sample - loss: 0.1111\nEpoch 493/600\n6/6 [==============================] - 0s 312us/sample - loss: 0.1108\nEpoch 494/600\n6/6 [==============================] - 0s 432us/sample - loss: 0.1106\nEpoch 495/600\n6/6 [==============================] - 0s 293us/sample - loss: 0.1104\nEpoch 496/600\n6/6 [==============================] - 0s 296us/sample - loss: 0.1102\nEpoch 497/600\n6/6 [==============================] - 0s 298us/sample - loss: 0.1099\nEpoch 498/600\n6/6 [==============================] - 0s 308us/sample - loss: 0.1097\nEpoch 499/600\n6/6 [==============================] - 0s 289us/sample - loss: 0.1095\nEpoch 500/600\n6/6 [==============================] - 0s 307us/sample - loss: 0.1092\nEpoch 501/600\n6/6 [==============================] - 0s 311us/sample - loss: 0.1090\nEpoch 502/600\n6/6 [==============================] - 0s 394us/sample - loss: 0.1088\nEpoch 503/600\n6/6 [==============================] - 0s 297us/sample - loss: 0.1086\nEpoch 504/600\n6/6 [==============================] - 0s 330us/sample - loss: 0.1084\nEpoch 505/600\n6/6 [==============================] - 0s 280us/sample - loss: 0.1081\nEpoch 506/600\n6/6 [==============================] - 0s 317us/sample - loss: 0.1079\nEpoch 507/600\n6/6 [==============================] - 0s 308us/sample - loss: 0.1077\nEpoch 508/600\n6/6 [==============================] - 0s 296us/sample - loss: 0.1075\nEpoch 509/600\n6/6 [==============================] - 0s 384us/sample - loss: 0.1072\nEpoch 510/600\n6/6 [==============================] - 0s 305us/sample - loss: 0.1070\nEpoch 511/600\n6/6 [==============================] - 0s 315us/sample - loss: 0.1068\nEpoch 512/600\n6/6 [==============================] - 0s 340us/sample - loss: 0.1066\nEpoch 513/600\n6/6 [==============================] - 0s 317us/sample - loss: 0.1064\nEpoch 514/600\n6/6 [==============================] - 0s 300us/sample - loss: 0.1061\nEpoch 515/600\n6/6 [==============================] - 0s 332us/sample - loss: 0.1059\nEpoch 516/600\n6/6 [==============================] - 0s 445us/sample - loss: 0.1057\nEpoch 517/600\n6/6 [==============================] - 0s 306us/sample - loss: 0.1055\nEpoch 518/600\n6/6 [==============================] - 0s 297us/sample - loss: 0.1053\nEpoch 519/600\n6/6 [==============================] - 0s 309us/sample - loss: 0.1050\nEpoch 520/600\n6/6 [==============================] - 0s 326us/sample - loss: 0.1048\nEpoch 521/600\n6/6 [==============================] - 0s 311us/sample - loss: 0.1046\nEpoch 522/600\n6/6 [==============================] - 0s 366us/sample - loss: 0.1044\nEpoch 523/600\n6/6 [==============================] - 0s 276us/sample - loss: 0.1042\nEpoch 524/600\n6/6 [==============================] - 0s 264us/sample - loss: 0.1040\nEpoch 525/600\n6/6 [==============================] - 0s 287us/sample - loss: 0.1038\nEpoch 526/600\n6/6 [==============================] - 0s 296us/sample - loss: 0.1035\nEpoch 527/600\n6/6 [==============================] - 0s 316us/sample - loss: 0.1033\nEpoch 528/600\n6/6 [==============================] - 0s 331us/sample - loss: 0.1031\nEpoch 529/600\n6/6 [==============================] - 0s 330us/sample - loss: 0.1029\nEpoch 530/600\n6/6 [==============================] - 0s 684us/sample - loss: 0.1027\nEpoch 531/600\n6/6 [==============================] - 0s 289us/sample - loss: 0.1025\nEpoch 532/600\n6/6 [==============================] - 0s 284us/sample - loss: 0.1023\nEpoch 533/600\n6/6 [==============================] - 0s 310us/sample - loss: 0.1020\nEpoch 534/600\n6/6 [==============================] - 0s 285us/sample - loss: 0.1018\nEpoch 535/600\n6/6 [==============================] - 0s 436us/sample - loss: 0.1016\nEpoch 536/600\n6/6 [==============================] - 0s 438us/sample - loss: 0.1014\nEpoch 537/600\n6/6 [==============================] - 0s 334us/sample - loss: 0.1012\nEpoch 538/600\n6/6 [==============================] - 0s 338us/sample - loss: 0.1010\nEpoch 539/600\n6/6 [==============================] - 0s 436us/sample - loss: 0.1008\nEpoch 540/600\n6/6 [==============================] - 0s 331us/sample - loss: 0.1006\nEpoch 541/600\n6/6 [==============================] - 0s 332us/sample - loss: 0.1004\nEpoch 542/600\n6/6 [==============================] - 0s 335us/sample - loss: 0.1002\nEpoch 543/600\n6/6 [==============================] - 0s 349us/sample - loss: 0.1000\nEpoch 544/600\n6/6 [==============================] - 0s 346us/sample - loss: 0.0998\nEpoch 545/600\n6/6 [==============================] - 0s 337us/sample - loss: 0.0996\nEpoch 546/600\n6/6 [==============================] - 0s 324us/sample - loss: 0.0993\nEpoch 547/600\n6/6 [==============================] - 0s 409us/sample - loss: 0.0991\nEpoch 548/600\n6/6 [==============================] - 0s 309us/sample - loss: 0.0989\nEpoch 549/600\n6/6 [==============================] - 0s 434us/sample - loss: 0.0987\nEpoch 550/600\n6/6 [==============================] - 0s 367us/sample - loss: 0.0985\nEpoch 551/600\n6/6 [==============================] - 0s 427us/sample - loss: 0.0983\nEpoch 552/600\n6/6 [==============================] - 0s 467us/sample - loss: 0.0981\nEpoch 553/600\n6/6 [==============================] - 0s 433us/sample - loss: 0.0979\nEpoch 554/600\n6/6 [==============================] - 0s 404us/sample - loss: 0.0977\nEpoch 555/600\n6/6 [==============================] - 0s 383us/sample - loss: 0.0975\nEpoch 556/600\n6/6 [==============================] - 0s 354us/sample - loss: 0.0973\nEpoch 557/600\n6/6 [==============================] - 0s 290us/sample - loss: 0.0971\nEpoch 558/600\n6/6 [==============================] - 0s 494us/sample - loss: 0.0969\nEpoch 559/600\n6/6 [==============================] - 0s 234us/sample - loss: 0.0967\nEpoch 560/600\n6/6 [==============================] - 0s 259us/sample - loss: 0.0965\nEpoch 561/600\n6/6 [==============================] - 0s 484us/sample - loss: 0.0963\nEpoch 562/600\n6/6 [==============================] - 0s 294us/sample - loss: 0.0961\nEpoch 563/600\n6/6 [==============================] - 0s 286us/sample - loss: 0.0959\nEpoch 564/600\n6/6 [==============================] - 0s 497us/sample - loss: 0.0957\nEpoch 565/600\n6/6 [==============================] - 0s 236us/sample - loss: 0.0955\nEpoch 566/600\n6/6 [==============================] - 0s 451us/sample - loss: 0.0953\nEpoch 567/600\n6/6 [==============================] - 0s 310us/sample - loss: 0.0951\nEpoch 568/600\n6/6 [==============================] - 0s 298us/sample - loss: 0.0949\nEpoch 569/600\n6/6 [==============================] - 0s 335us/sample - loss: 0.0947\nEpoch 570/600\n6/6 [==============================] - 0s 381us/sample - loss: 0.0945\nEpoch 571/600\n6/6 [==============================] - 0s 481us/sample - loss: 0.0943\nEpoch 572/600\n6/6 [==============================] - 0s 363us/sample - loss: 0.0942\nEpoch 573/600\n6/6 [==============================] - 0s 329us/sample - loss: 0.0940\nEpoch 574/600\n6/6 [==============================] - 0s 341us/sample - loss: 0.0938\nEpoch 575/600\n6/6 [==============================] - 0s 281us/sample - loss: 0.0936\nEpoch 576/600\n6/6 [==============================] - 0s 440us/sample - loss: 0.0934\nEpoch 577/600\n6/6 [==============================] - 0s 331us/sample - loss: 0.0932\nEpoch 578/600\n6/6 [==============================] - 0s 380us/sample - loss: 0.0930\nEpoch 579/600\n6/6 [==============================] - 0s 304us/sample - loss: 0.0928\nEpoch 580/600\n6/6 [==============================] - 0s 534us/sample - loss: 0.0926\nEpoch 581/600\n6/6 [==============================] - 0s 355us/sample - loss: 0.0924\nEpoch 582/600\n6/6 [==============================] - 0s 445us/sample - loss: 0.0922\nEpoch 583/600\n6/6 [==============================] - 0s 500us/sample - loss: 0.0920\nEpoch 584/600\n6/6 [==============================] - 0s 333us/sample - loss: 0.0918\nEpoch 585/600\n6/6 [==============================] - 0s 283us/sample - loss: 0.0917\nEpoch 586/600\n6/6 [==============================] - 0s 287us/sample - loss: 0.0915\nEpoch 587/600\n6/6 [==============================] - 0s 277us/sample - loss: 0.0913\nEpoch 588/600\n6/6 [==============================] - 0s 294us/sample - loss: 0.0911\nEpoch 589/600\n6/6 [==============================] - 0s 302us/sample - loss: 0.0909\nEpoch 590/600\n6/6 [==============================] - 0s 389us/sample - loss: 0.0907\nEpoch 591/600\n6/6 [==============================] - 0s 305us/sample - loss: 0.0905\nEpoch 592/600\n6/6 [==============================] - 0s 370us/sample - loss: 0.0903\nEpoch 593/600\n6/6 [==============================] - 0s 387us/sample - loss: 0.0902\nEpoch 594/600\n6/6 [==============================] - 0s 344us/sample - loss: 0.0900\nEpoch 595/600\n6/6 [==============================] - 0s 307us/sample - loss: 0.0898\nEpoch 596/600\n6/6 [==============================] - 0s 416us/sample - loss: 0.0896\nEpoch 597/600\n6/6 [==============================] - 0s 290us/sample - loss: 0.0894\nEpoch 598/600\n6/6 [==============================] - 0s 384us/sample - loss: 0.0892\nEpoch 599/600\n6/6 [==============================] - 0s 334us/sample - loss: 0.0890\nEpoch 600/600\n6/6 [==============================] - 0s 348us/sample - loss: 0.0889\n"
        },
        {
          "output_type": "execute_result",
          "data": {
            "text/plain": "<tensorflow.python.keras.callbacks.History at 0x7f8574071668>"
          },
          "metadata": {},
          "execution_count": 9
        }
      ],
      "source": [
        "model.fit(xs, ys, epochs=600)"
      ]
    },
    {
      "cell_type": "markdown",
      "metadata": {
        "colab_type": "text",
        "id": "kaFIr71H2OZ-"
      },
      "source": [
        "Ok, now you have a model that has been trained to learn the relationship between X and Y. You can use the **model.predict** method to have it figure out the Y for a previously unknown X. So, for example, if X = 10, what do you think Y will be? Take a guess before you run this code:"
      ]
    },
    {
      "cell_type": "code",
      "execution_count": 12,
      "metadata": {
        "colab": {},
        "colab_type": "code",
        "id": "oxNzL4lS2Gui",
        "tags": []
      },
      "outputs": [
        {
          "output_type": "stream",
          "name": "stdout",
          "text": "[[18.122105]]\n"
        }
      ],
      "source": [
        "print(model.predict([10.0]))"
      ]
    },
    {
      "cell_type": "markdown",
      "metadata": {
        "colab_type": "text",
        "id": "btF2CSFH2iEX"
      },
      "source": [
        "You might have thought 19, right? But it ended up being a little under. Why do you think that is? \n",
        "\n",
        "Remember that neural networks deal with probabilities, so given the data that we fed the NN with, it calculated that there is a very high probability that the relationship between X and Y is Y=2X-1, but with only 6 data points we can't know for sure. As a result, the result for 10 is very close to 19, but not necessarily 19. \n",
        "\n",
        "As you work with neural networks, you'll see this pattern recurring. You will almost always deal with probabilities, not certainties, and will do a little bit of coding to figure out what the result is based on the probabilities, particularly when it comes to classification.\n"
      ]
    }
  ],
  "metadata": {
    "colab": {
      "include_colab_link": true,
      "name": "Course 1 - Part 2 - Lesson 2 - Notebook.ipynb",
      "provenance": [],
      "toc_visible": true
    },
    "kernelspec": {
      "display_name": "Python 3",
      "name": "python3"
    }
  },
  "nbformat": 4,
  "nbformat_minor": 0
}